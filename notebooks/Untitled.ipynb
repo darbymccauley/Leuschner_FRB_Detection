{
 "cells": [
  {
   "cell_type": "code",
   "execution_count": 1,
   "id": "2bd0e9a3",
   "metadata": {},
   "outputs": [],
   "source": [
    "import numpy as np\n",
    "import matplotlib.pyplot as plt"
   ]
  },
  {
   "cell_type": "code",
   "execution_count": 3,
   "id": "e5f6f2b0",
   "metadata": {},
   "outputs": [],
   "source": [
    "def delay_time(ν, DM): # [MHz], [pc/cm**3]\n",
    "    constant = 4140\n",
    "    return (constant*DM)/(ν**2) # [s]\n"
   ]
  },
  {
   "cell_type": "code",
   "execution_count": 4,
   "id": "0d402f3f",
   "metadata": {},
   "outputs": [],
   "source": [
    "data = np.zeros()"
   ]
  },
  {
   "cell_type": "code",
   "execution_count": 16,
   "id": "fa015d6f",
   "metadata": {},
   "outputs": [],
   "source": [
    "data = np.zeros((256, 4096))\n",
    "\n",
    "nspec, nchans = data.shape\n",
    "\n",
    "time_res = 64e-6 # 64μs = 64e-6s\n",
    "t0 = 0\n",
    "tf = time_res*nspec\n",
    "\n",
    "freq_res = 250/nchans # Mhz"
   ]
  },
  {
   "cell_type": "code",
   "execution_count": 18,
   "id": "31249142",
   "metadata": {},
   "outputs": [
    {
     "data": {
      "text/plain": [
       "0.016384"
      ]
     },
     "execution_count": 18,
     "metadata": {},
     "output_type": "execute_result"
    }
   ],
   "source": []
  },
  {
   "cell_type": "code",
   "execution_count": 6,
   "id": "097795e7",
   "metadata": {},
   "outputs": [
    {
     "data": {
      "text/plain": [
       "1150"
      ]
     },
     "execution_count": 6,
     "metadata": {},
     "output_type": "execute_result"
    }
   ],
   "source": [
    "1400-250"
   ]
  },
  {
   "cell_type": "code",
   "execution_count": 9,
   "id": "346c756c",
   "metadata": {},
   "outputs": [
    {
     "data": {
      "text/plain": [
       "4096"
      ]
     },
     "execution_count": 9,
     "metadata": {},
     "output_type": "execute_result"
    }
   ],
   "source": [
    "2**12"
   ]
  },
  {
   "cell_type": "code",
   "execution_count": null,
   "id": "5dc8a170",
   "metadata": {},
   "outputs": [],
   "source": []
  }
 ],
 "metadata": {
  "kernelspec": {
   "display_name": "Python 3 (ipykernel)",
   "language": "python",
   "name": "python3"
  },
  "language_info": {
   "codemirror_mode": {
    "name": "ipython",
    "version": 3
   },
   "file_extension": ".py",
   "mimetype": "text/x-python",
   "name": "python",
   "nbconvert_exporter": "python",
   "pygments_lexer": "ipython3",
   "version": "3.9.14"
  }
 },
 "nbformat": 4,
 "nbformat_minor": 5
}
