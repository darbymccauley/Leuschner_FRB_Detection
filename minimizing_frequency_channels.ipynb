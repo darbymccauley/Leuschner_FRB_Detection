{
 "cells": [
  {
   "cell_type": "markdown",
   "id": "524f1423",
   "metadata": {},
   "source": [
    "The goal is to determine the minimum number of frequency channels we can use in order to achieve the resolution we want. We will pull a lot from the DSA-10 design (https://arxiv.org/pdf/1906.08699.pdf)."
   ]
  },
  {
   "cell_type": "code",
   "execution_count": 21,
   "id": "8e3bd3b9",
   "metadata": {},
   "outputs": [],
   "source": [
    "import numpy as np\n",
    "import matplotlib.pyplot as plt \n",
    "\n",
    "%matplotlib inline\n",
    "plt.rcParams['mathtext.fontset'], plt.rcParams['font.family'] = 'stix', 'STIXGeneral'\n",
    "plt.rcParams.update({'font.size': 16})"
   ]
  },
  {
   "cell_type": "markdown",
   "id": "ef086a4e",
   "metadata": {},
   "source": [
    "### ~ Intrinsic values and limitations"
   ]
  },
  {
   "cell_type": "markdown",
   "id": "fd1be24e",
   "metadata": {},
   "source": [
    "The DSA-10 makes use of an ADC that samples at 500 MHz. Furthermore, the DSA-10 uses a 4-tap, 4096 point FIR, which gives 2048 spectral channels."
   ]
  },
  {
   "cell_type": "code",
   "execution_count": 3,
   "id": "2f899cc7",
   "metadata": {},
   "outputs": [],
   "source": [
    "ADC_rate = 500 # MHz\n",
    "n_points = 4096\n",
    "n_channels = 2048"
   ]
  },
  {
   "cell_type": "markdown",
   "id": "627f252e",
   "metadata": {},
   "source": [
    "Each channel holds 1B/ch (1 byte per channel) for a total of 2048B."
   ]
  },
  {
   "cell_type": "code",
   "execution_count": 9,
   "id": "ff781246",
   "metadata": {},
   "outputs": [],
   "source": [
    "total_bytes = 2048 # B"
   ]
  },
  {
   "cell_type": "markdown",
   "id": "f75e17c3",
   "metadata": {},
   "source": [
    "We define a time between channels, $\\Delta t$, as:"
   ]
  },
  {
   "cell_type": "code",
   "execution_count": 8,
   "id": "145c7d7a",
   "metadata": {},
   "outputs": [
    {
     "name": "stdout",
     "output_type": "stream",
     "text": [
      "Δt = 8.192 μs (microseconds)\n"
     ]
    }
   ],
   "source": [
    "Δt = n_points/ADC_rate \n",
    "print('Δt =', Δt, 'μs (microseconds)')"
   ]
  },
  {
   "cell_type": "markdown",
   "id": "635ef1eb",
   "metadata": {},
   "source": [
    "As a result, we can then determine the data rate of the system, $R_{data}$:"
   ]
  },
  {
   "cell_type": "code",
   "execution_count": 17,
   "id": "925ab7cb",
   "metadata": {},
   "outputs": [
    {
     "name": "stdout",
     "output_type": "stream",
     "text": [
      "Data rate : 250.0 MB/s = 2.0 Gb/s\n"
     ]
    }
   ],
   "source": [
    "R_data_bytes = total_bytes/Δt # MB/s\n",
    "R_data_bits = R_data_bytes*8/1e3 # Gb/s\n",
    "print('Data rate :', R_data_bytes, 'MB/s =', R_data_bits, 'Gb/s')"
   ]
  },
  {
   "cell_type": "markdown",
   "id": "0a1f03b8",
   "metadata": {},
   "source": [
    "This data rate value is expected to be a general limitation on my system as well, so we have to work around this value."
   ]
  },
  {
   "cell_type": "markdown",
   "id": "a4a5584e",
   "metadata": {},
   "source": [
    "### Frequency Channel Calculations"
   ]
  },
  {
   "cell_type": "markdown",
   "id": "d11dcdef",
   "metadata": {},
   "source": [
    "$d\\nu = \\frac{1}{2dt}$"
   ]
  },
  {
   "cell_type": "code",
   "execution_count": 122,
   "id": "bfa571d9",
   "metadata": {},
   "outputs": [],
   "source": [
    "def dv(dt):\n",
    "#     dt [ms] --> dv [kHz]\n",
    "    dv = 1/(2*dt)\n",
    "    nchans = 250e3/dv\n",
    "    dr_bytes = (nchans/2)/(dt*1e3) # MBps\n",
    "    dr_bits = dr_bytes*8 / 1e3 # Gbps\n",
    "    print('Δν =', dv, 'kHz\\nNumber of channels:', nchans, '\\nData rate:', dr_bits, 'Gbps')"
   ]
  },
  {
   "cell_type": "code",
   "execution_count": 123,
   "id": "9be98a43",
   "metadata": {},
   "outputs": [
    {
     "name": "stdout",
     "output_type": "stream",
     "text": [
      "Δν = 61.03515625 kHz\n",
      "Number of channels: 4096.0 \n",
      "Data rate: 2.0 Gbps\n"
     ]
    }
   ],
   "source": [
    "### DSA-10 model ###\n",
    "dv(0.008192) # 8 μs"
   ]
  },
  {
   "cell_type": "code",
   "execution_count": 127,
   "id": "9aad9bfb",
   "metadata": {},
   "outputs": [
    {
     "name": "stdout",
     "output_type": "stream",
     "text": [
      "Δν = 30.517578125 kHz\n",
      "Number of channels: 8192.0 \n",
      "Data rate: 2.0 Gbps\n"
     ]
    }
   ],
   "source": [
    "dv(0.008192*2)"
   ]
  },
  {
   "cell_type": "code",
   "execution_count": 124,
   "id": "eeb46ed0",
   "metadata": {},
   "outputs": [
    {
     "name": "stdout",
     "output_type": "stream",
     "text": [
      "Δν = 122.0703125 kHz\n",
      "Number of channels: 2048.0 \n",
      "Data rate: 2.0 Gbps\n"
     ]
    }
   ],
   "source": [
    "dv(0.008192/2) "
   ]
  },
  {
   "cell_type": "code",
   "execution_count": 125,
   "id": "b5de6f96",
   "metadata": {},
   "outputs": [
    {
     "name": "stdout",
     "output_type": "stream",
     "text": [
      "Δν = 244.140625 kHz\n",
      "Number of channels: 1024.0 \n",
      "Data rate: 2.0 Gbps\n"
     ]
    }
   ],
   "source": [
    "dv(0.008192/4)"
   ]
  },
  {
   "cell_type": "code",
   "execution_count": 126,
   "id": "1c1d13a2",
   "metadata": {},
   "outputs": [
    {
     "name": "stdout",
     "output_type": "stream",
     "text": [
      "Δν = 488.28125 kHz\n",
      "Number of channels: 512.0 \n",
      "Data rate: 2.0 Gbps\n"
     ]
    }
   ],
   "source": [
    "dv(0.008192/8)"
   ]
  },
  {
   "cell_type": "code",
   "execution_count": 128,
   "id": "a10154ea",
   "metadata": {},
   "outputs": [
    {
     "name": "stdout",
     "output_type": "stream",
     "text": [
      "Δν = 5.0 kHz\n",
      "Number of channels: 50000.0 \n",
      "Data rate: 2.0 Gbps\n"
     ]
    }
   ],
   "source": [
    "dv(0.1)"
   ]
  },
  {
   "cell_type": "code",
   "execution_count": null,
   "id": "a302b8b2",
   "metadata": {},
   "outputs": [],
   "source": []
  }
 ],
 "metadata": {
  "kernelspec": {
   "display_name": "Python 3 (ipykernel)",
   "language": "python",
   "name": "python3"
  },
  "language_info": {
   "codemirror_mode": {
    "name": "ipython",
    "version": 3
   },
   "file_extension": ".py",
   "mimetype": "text/x-python",
   "name": "python",
   "nbconvert_exporter": "python",
   "pygments_lexer": "ipython3",
   "version": "3.9.13"
  }
 },
 "nbformat": 4,
 "nbformat_minor": 5
}
