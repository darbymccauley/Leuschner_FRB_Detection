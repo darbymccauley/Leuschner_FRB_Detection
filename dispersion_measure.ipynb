{
 "cells": [
  {
   "cell_type": "code",
   "execution_count": 2,
   "id": "296e404b",
   "metadata": {},
   "outputs": [],
   "source": [
    "import numpy as np\n",
    "import matplotlib.pyplot as plt \n",
    "import astropy.units as u\n",
    "\n",
    "plt.rcParams['mathtext.fontset'], plt.rcParams['font.family'] = 'stix', 'STIXGeneral'\n",
    "plt.rcParams.update({'font.size': 16})"
   ]
  },
  {
   "cell_type": "code",
   "execution_count": 5,
   "id": "00b7bd17",
   "metadata": {},
   "outputs": [],
   "source": [
    "### Constants\n",
    "DM = 332.72 # pc/cm**3 -- Dispersion measure of SGR1935+2154"
   ]
  },
  {
   "cell_type": "code",
   "execution_count": 6,
   "id": "4808a648",
   "metadata": {},
   "outputs": [],
   "source": [
    "def travel_time(ν, DM):\n",
    "    \"\"\"\n",
    "    Compute the travel time of the pulse given a frequency range and dispersion measure.\n",
    "    \n",
    "    Inputs:\n",
    "     - DM: Dispersion measure [pc/cm**3]\n",
    "     - ν: frequency [MHz]\n",
    "    Returns:\n",
    "     - time delay of pulse [s]\n",
    "     \"\"\"\n",
    "    return 4140*(DM)*(ν)**(-2)"
   ]
  },
  {
   "cell_type": "code",
   "execution_count": 12,
   "id": "038e04a0",
   "metadata": {},
   "outputs": [
    {
     "data": {
      "text/plain": [
       "[<matplotlib.lines.Line2D at 0x7fe390f64a90>]"
      ]
     },
     "execution_count": 12,
     "metadata": {},
     "output_type": "execute_result"
    },
    {
     "data": {
      "image/png": "[encoded data removed]",
      "text/plain": [
       "<Figure size 432x288 with 1 Axes>"
      ]
     },
     "metadata": {
      "needs_background": "light"
     },
     "output_type": "display_data"
    }
   ],
   "source": [
    "freqs = np.linspace(500, 1000, 1000)\n",
    "\n",
    "plt.figure()\n",
    "plt.plot(freqs, travel_time(freqs, DM))"
   ]
  },
  {
   "cell_type": "code",
   "execution_count": null,
   "id": "5f3f01f9",
   "metadata": {},
   "outputs": [],
   "source": []
  }
 ],
 "metadata": {
  "kernelspec": {
   "display_name": "Python 3 (ipykernel)",
   "language": "python",
   "name": "python3"
  },
  "language_info": {
   "codemirror_mode": {
    "name": "ipython",
    "version": 3
   },
   "file_extension": ".py",
   "mimetype": "text/x-python",
   "name": "python",
   "nbconvert_exporter": "python",
   "pygments_lexer": "ipython3",
   "version": "3.9.13"
  }
 },
 "nbformat": 4,
 "nbformat_minor": 5
}
